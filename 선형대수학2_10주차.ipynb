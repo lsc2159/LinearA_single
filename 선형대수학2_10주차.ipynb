{
  "nbformat": 4,
  "nbformat_minor": 0,
  "metadata": {
    "colab": {
      "provenance": [],
      "authorship_tag": "ABX9TyOF8oz53+MK/FLz3BnMgSY5",
      "include_colab_link": true
    },
    "kernelspec": {
      "name": "python3",
      "display_name": "Python 3"
    },
    "language_info": {
      "name": "python"
    }
  },
  "cells": [
    {
      "cell_type": "markdown",
      "metadata": {
        "id": "view-in-github",
        "colab_type": "text"
      },
      "source": [
        "<a href=\"https://colab.research.google.com/github/lsc2159/LinearA_single/blob/main/%EC%84%A0%ED%98%95%EB%8C%80%EC%88%98%ED%95%992_10%EC%A3%BC%EC%B0%A8.ipynb\" target=\"_parent\"><img src=\"https://colab.research.google.com/assets/colab-badge.svg\" alt=\"Open In Colab\"/></a>"
      ]
    },
    {
      "cell_type": "code",
      "source": [
        "!sudo apt-get install -y fonts-nanum\n",
        "!sudo fc-cache -fv\n",
        "!rm ~/.cache/matplotlib -rf"
      ],
      "metadata": {
        "id": "ksyTT0Rm9I0j"
      },
      "execution_count": null,
      "outputs": []
    },
    {
      "cell_type": "code",
      "execution_count": null,
      "metadata": {
        "id": "MK6e4gD81j1M"
      },
      "outputs": [],
      "source": [
        "import pandas as pd\n",
        "import numpy as np\n",
        "from sklearn import datasets\n",
        "import matplotlib.pyplot as plt\n",
        "from sklearn.preprocessing import StandardScaler\n",
        "\n",
        "lamen=dict({'name':['쇠고기라면','해물라면','얼큰라면','떡라면','짬뽕라면','만두라면','치즈라면','된장라면','볶음라면','김치라면'],\n",
        "            'noodle':[2,1,5,2,3,4,4,1,3,5],\n",
        "            'bowl':[4,5,3,2,5,3,4,2,3,5],\n",
        "            'soup':[5,1,4,3,5,2,3,1,2,3]})\n",
        "lamen\n",
        "\n",
        "lamen1=pd.DataFrame(lamen)\n",
        "lamen1\n"
      ]
    },
    {
      "cell_type": "code",
      "source": [
        "\n",
        "lamenEval=lamen1[['noodle','bowl','soup']]\n",
        "lamenName=lamen1['name']\n",
        "\n",
        "scaler=StandardScaler()\n",
        "scaler.fit(lamenEval.values)\n",
        "lamen_scaled=scaler.transform(lamenEval.values)\n",
        "\n",
        "lamen_scaled.shape\n",
        "\n",
        "from sklearn.decomposition import PCA\n",
        "pca_lamen=PCA()\n",
        "pca_lamen.fit(lamen_scaled)\n",
        "\n",
        "X_pca_lamen=pca_lamen.transform(lamen_scaled)\n",
        "\n",
        "print(\"original data:{}\".format(str(lamen_scaled.shape)))\n",
        "print(\"transfrom data:{}\".format(str(X_pca_lamen.shape)))"
      ],
      "metadata": {
        "id": "jPWmB7IP3rDz"
      },
      "execution_count": null,
      "outputs": []
    },
    {
      "cell_type": "code",
      "source": [
        "pca_lamen.components_"
      ],
      "metadata": {
        "id": "NPye6eyW3tn2"
      },
      "execution_count": null,
      "outputs": []
    },
    {
      "cell_type": "code",
      "source": [
        "pc1=0\n",
        "pc2=0\n",
        "pc3=0\n",
        "\n",
        "for j in range(len(pca_lamen.components_)):\n",
        "  pc1+=pca_lamen.components_[0][j]*lamen_scaled[:,j]\n",
        "  pc2+=pca_lamen.components_[1][j]*lamen_scaled[:,j]\n",
        "  pc3+=pca_lamen.components_[2][j]*lamen_scaled[:,j]\n",
        "\n",
        "pc1=pc1.reshape(10,1)\n",
        "pc2=pc2.reshape(10,1)\n",
        "pc3=pc3.reshape(10,1)\n",
        "\n",
        "np.round(np.hstack((pc1,pc2,pc3)),3)==np.round(X_pca_lamen,3)\n"
      ],
      "metadata": {
        "id": "omEM1L5A3xaH"
      },
      "execution_count": null,
      "outputs": []
    },
    {
      "cell_type": "code",
      "source": [
        "def biplot2(score, coeff,label,pcax,pcay,labels=None):\n",
        "  pca1=pcax-1\n",
        "  pca2=pcay-1\n",
        "  xs=score[:,pca1]\n",
        "  ys=score[:,pca2]\n",
        "  n=score.shape[1]\n",
        "  scalex=1.0/(xs.max()-xs.min())\n",
        "  scaley=1.0/(ys.max()-ys.min())\n",
        "\n",
        "  for i in range(len(xs)):\n",
        "    plt.scatter(xs[i]*scalex,ys[i]*scaley)\n",
        "    plt.annotate(label.iloc[i],xy=(xs[i]*scalex,ys[i]*scaley),ha='right')\n",
        "\n",
        "  for i in range(n):\n",
        "    plt.arrow(0,0,coeff[i,pca1],coeff[i,pca2],color='r',alpha=1)\n",
        "    if labels is None:\n",
        "      plt.text(coeff[i,pca1]*1.15,coeff[i,pca2]*1.15,\"Var\"+str(i+1),color='g',ha='center',va='center')\n",
        "    else:\n",
        "      plt.text(coeff[i,pca1]*1.15,coeff[i,pca2]*1.15,labels[i],color='g',ha='center',va='center',size=15)\n",
        "    plt.xlim(-0.8,0.75)\n",
        "    plt.ylim(-1,1)\n",
        "    plt.xlabel(\"PC{}\".format(pcax))\n",
        "    plt.ylabel(\"PC{}\".format(pcay))\n",
        "    plt.grid()\n",
        "\n",
        "import matplotlib.pyplot as plt\n",
        "import matplotlib.font_manager as fm\n",
        "plt.rc('font',family='NanumBarunGothic')\n",
        "%matplotlib inline\n",
        "biplot2(X_pca_lamen, pca_lamen.components_,lamenName,1,2,labels=lamenEval.columns)"
      ],
      "metadata": {
        "id": "il-i_BZk4Rs-"
      },
      "execution_count": null,
      "outputs": []
    },
    {
      "cell_type": "code",
      "source": [
        "import numpy as np\n",
        "import matplotlib.pyplot as plt\n",
        "from sklearn.decomposition import PCA\n",
        "import pandas as pd\n",
        "from sklearn.preprocessing import StandardScaler\n",
        "\n",
        "# iris 데이터의 위치 URL\n",
        "url = \"https://archive.ics.uci.edu/ml/machine-learning-databases/iris/iris.data\"\n",
        "# Pandas DataFrame으로 읽어들이기\n",
        "df = pd.read_csv(url, names=['sepal length','sepal width','petal length','petal width','target'])\n",
        "\n",
        "nrow, ncol = df.shape\n",
        "print(\"Iris data set :\", nrow, \"records with\", ncol, \"attributes\\n\")\n",
        "print(\"First 5 records in iris data\\n\", df.head(5))\n",
        "features = ['sepal length', 'sepal width', 'petal length', 'petal width']\n",
        "x = df.loc[:, features].values # 데이터의 속성값\n",
        "y = df.loc[:,['target']].values # 데이터의 부류\n",
        "x = StandardScaler().fit_transform(x) # 평균 0, 분산 1인 데이터로 변환\n",
        "\n",
        "pca = PCA(n_components=2) # PCA를 적용하여 2개의 주성분만 추출\n",
        "principalComponents = pca.fit_transform(x)\n",
        "# 주성분 축 2개를 이용하여 2차원 데이터로 변환\n",
        "print(\"\\nFirst principal axis:\", pca.components_[0])\n",
        "print(\"Second principal axis:\", pca.components_[1])\n",
        "\n",
        "principalDf = pd.DataFrame(data = principalComponents,\n",
        "              columns = ['principal component 1', 'principal component 2'])\n",
        "finalDf = pd.concat([principalDf, df[['target']]], axis = 1)\n",
        "\n",
        "print(\"\\nFirst 5 Transformed records\\n\", finalDf.head(5))\n",
        "fig = plt.figure(figsize = (8,8))\n",
        "ax = fig.add_subplot(1,1,1)\n",
        "ax.set_xlabel('principal component 1', fontsize = 12)\n",
        "ax.set_ylabel('principal component 2', fontsize = 12)\n",
        "ax.set_title('PCA with 2 components', fontsize = 15)\n",
        "\n",
        "targets = ['Iris-setosa', 'Iris-versicolor', 'Iris-virginica'] # iris 데이터의 부류 이름\n",
        "colors = ['r', 'g', 'b'] # 부류별로 지정된 색상\n",
        "for target, color in zip(targets,colors):\n",
        "    indicesToKeep = finalDf['target'] == target\n",
        "    ax.scatter(finalDf.loc[indicesToKeep, 'principal component 1']\n",
        "      , finalDf.loc[indicesToKeep, 'principal component 2'], c = color, s = 40)\n",
        "ax.legend(targets)\n",
        "ax.grid()\n",
        "fig.show()\n"
      ],
      "metadata": {
        "id": "9nl4yvfy8QAz"
      },
      "execution_count": null,
      "outputs": []
    },
    {
      "cell_type": "code",
      "source": [
        "import numpy as np\n",
        "import numpy.linalg as npl      # linear algebra\n",
        "import matplotlib.pyplot as plt"
      ],
      "metadata": {
        "id": "cKxk-4d08UVx"
      },
      "execution_count": null,
      "outputs": []
    },
    {
      "cell_type": "code",
      "source": [
        "A = np.array([[4, 2], [1, 3]])  #np.vstack([[4,2],[1,3]])\n",
        "print (\"A:\")\n",
        "print (A, \"\\n\")\n",
        "\n",
        "e_values, e_vectors = npl.eig(A)\n",
        "print (\"A의 고윳값 = \", e_values)\n",
        "print (\"A의 고유벡터 = \", e_vectors)\n",
        "\n",
        "# eigen vector u1, u2\n",
        "u1 = np.vstack(e_vectors[:,0])\n",
        "u2 = np.vstack(e_vectors[:,1])\n",
        "print (\"u1: \", u1)\n",
        "print (\"u2: \", u2)\n",
        "\n",
        "# eigen value lambda1, lambda2\n",
        "l1, l2 = e_values[0], e_values[1]\n",
        "print (\"eigen values: \", l1,l2, \"\\n\")\n",
        "\n",
        "# Check\n",
        "print (\"Au1: \", np.dot(A, u1))\n",
        "print (\"l1*u1: \", l1*u1)\n",
        "\n",
        "print (\"Au2: \", np.dot(A, u2))\n",
        "print (\"l2*u2: \", l2*u2)"
      ],
      "metadata": {
        "id": "DgMUybC_8W6M"
      },
      "execution_count": null,
      "outputs": []
    },
    {
      "cell_type": "code",
      "source": [
        "B = np.array([[5,2,0], [2,5,0], [-3,4,6]])\n",
        "w2, V2 = np.linalg.eig(B) # B의 고윳값과 고유벡터 계산\n",
        "\n",
        "print(\"\\nB의 고윳값 = \", w2)\n",
        "print(\"B의 고유벡터 = \", V2)"
      ],
      "metadata": {
        "id": "w70CabMX8YvT"
      },
      "execution_count": null,
      "outputs": []
    },
    {
      "cell_type": "code",
      "source": [
        "#import numpy as np\n",
        "#import matplotlib.pyplot as plt\n",
        "from sklearn.decomposition import PCA\n",
        "import pandas as pd\n",
        "from sklearn.preprocessing import StandardScaler"
      ],
      "metadata": {
        "id": "CM9s03En8aT5"
      },
      "execution_count": null,
      "outputs": []
    },
    {
      "cell_type": "code",
      "source": [
        "# iris 데이터의 위치 URL\n",
        "url = \"https://archive.ics.uci.edu/ml/machine-learning-databases/iris/iris.data\"\n",
        "# Pandas DataFrame으로 읽어들이기\n",
        "df = pd.read_csv(url, names=['sepal length','sepal width','petal length','petal width','target'])\n",
        "\n",
        "nrow, ncol = df.shape\n",
        "print(\"Iris data set :\", nrow, \"records with\", ncol, \"attributes\\n\")\n",
        "print(\"First 5 records in iris data\\n\", df.head(5))\n",
        "features = ['sepal length', 'sepal width', 'petal length', 'petal width']\n",
        "x = df.loc[:, features].values # 데이터의 속성값\n",
        "y = df.loc[:,['target']].values # 데이터의 부류\n",
        "x = StandardScaler().fit_transform(x) # 평균 0, 분산 1인 데이터로 변환"
      ],
      "metadata": {
        "id": "EGkkIrq18bl5"
      },
      "execution_count": null,
      "outputs": []
    },
    {
      "cell_type": "code",
      "source": [
        "pca = PCA(n_components=2) # PCA를 적용하여 2개의 주성분만 추출\n",
        "principalComponents = pca.fit_transform(x)\n",
        "# 주성분 축 2개를 이용하여 2차원 데이터로 변환\n",
        "print(\"\\nFirst principal axis:\", pca.components_[0])\n",
        "print(\"Second principal axis:\", pca.components_[1])\n",
        "\n",
        "principalDf = pd.DataFrame(data = principalComponents,\n",
        "              columns = ['principal component 1', 'principal component 2'])\n",
        "finalDf = pd.concat([principalDf, df[['target']]], axis = 1)\n",
        "\n",
        "print(\"\\nFirst 5 Transformed records\\n\", finalDf.head(5))"
      ],
      "metadata": {
        "id": "LfzIfsDG8dM0"
      },
      "execution_count": null,
      "outputs": []
    },
    {
      "cell_type": "code",
      "source": [
        "fig = plt.figure(figsize = (8,8))\n",
        "ax = fig.add_subplot(1,1,1)\n",
        "ax.set_xlabel('principal component 1', fontsize = 12)\n",
        "ax.set_ylabel('principal component 2', fontsize = 12)\n",
        "ax.set_title('PCA with 2 components', fontsize = 15)\n",
        "\n",
        "targets = ['Iris-setosa', 'Iris-versicolor', 'Iris-virginica'] # iris 데이터의 부류 이름\n",
        "colors = ['r', 'g', 'b'] # 부류별로 지정된 색상\n",
        "for target, color in zip(targets,colors):\n",
        "    # target 에 해당하는 인덱스 가져오기\n",
        "    indicesToKeep = finalDf['target'] == target\n",
        "    ax.scatter(finalDf.loc[indicesToKeep, 'principal component 1']\n",
        "      , finalDf.loc[indicesToKeep, 'principal component 2'], c = color, s = 40)\n",
        "ax.legend(targets)\n",
        "ax.grid()\n",
        "fig.show()"
      ],
      "metadata": {
        "id": "uaVVopn_8ehk"
      },
      "execution_count": null,
      "outputs": []
    }
  ]
}