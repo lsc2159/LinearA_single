{
  "nbformat": 4,
  "nbformat_minor": 0,
  "metadata": {
    "colab": {
      "provenance": [],
      "authorship_tag": "ABX9TyMhVL+3Diw7/k/Nc42JmGNt",
      "include_colab_link": true
    },
    "kernelspec": {
      "name": "python3",
      "display_name": "Python 3"
    },
    "language_info": {
      "name": "python"
    }
  },
  "cells": [
    {
      "cell_type": "markdown",
      "metadata": {
        "id": "view-in-github",
        "colab_type": "text"
      },
      "source": [
        "<a href=\"https://colab.research.google.com/github/lsc2159/LinearA_single/blob/main/LinearAlgebra05_SC.ipynb\" target=\"_parent\"><img src=\"https://colab.research.google.com/assets/colab-badge.svg\" alt=\"Open In Colab\"/></a>"
      ]
    },
    {
      "cell_type": "code",
      "execution_count": null,
      "metadata": {
        "id": "KjOlnVwY2qhh"
      },
      "outputs": [],
      "source": [
        "import cv2\n",
        "import numpy as np\n",
        "from google.colab.patches import cv2_imshow\n",
        "from google.colab import drive\n",
        "drive.mount('/content/drive')\n",
        "img=cv2.imread('/content/drive/My Drive/Colab Notebooks/Kakao1.jpg')\n",
        "height,width=img.shape[:2]\n",
        "\n",
        "M=np.array([[1,0,100],[0,1,200],[0,0,1]],dtype=float)\n",
        "dst=np.zeros(img.shape, dtype=np.unit8)\n",
        "for y in range(height-1):\n",
        "  for x in range(width-1):\n",
        "    new_p=np.array([x,y,1])\n",
        "    inv_rotation_matrix=np.linalg.inv(rotation_matrix)\n",
        "    old_p=np.dot(inv_rotation_matrix,new_p)\n",
        "    x_,y_=old_p[:2]\n",
        "    x_=int(x_)\n",
        "    y_=int(y_)\n",
        "\n",
        "    if x_>0 and x_<width and y_>0 and y_<height:\n",
        "      dst[y,x]:img[y_,x_]\n",
        "  result=cv2.hconcat([img,dst])\n",
        "  cv2_imshow(result)\n",
        "  cv2.waitkey(0)"
      ]
    },
    {
      "cell_type": "code",
      "source": [
        "import cv2\n",
        "import numpy as np\n",
        "from google.colab.patches import cv2_imshow\n",
        "from google.colab import drive\n",
        "drive.mount('/content/drive')\n",
        "img=cv2.imread('/content/drive/My Drive/Colab Notebooks/Kakao1.jpg')\n",
        "height,width=img.shape[:2]\n",
        "\n",
        "M=np.array([[1,0,100],[0,1,200],[0,0,1]],dtype=float)\n",
        "\n",
        "dst = cv2.wrapAffing(img, M, (width,height))\n",
        "result = cv2.hconcat([img,dst])\n",
        "cv2_imshow(result)\n",
        "cv2.waitKey(0)"
      ],
      "metadata": {
        "id": "RXUVLyIa2_0T"
      },
      "execution_count": null,
      "outputs": []
    },
    {
      "cell_type": "code",
      "source": [
        "import cv2\n",
        "import numpy as np\n",
        "from google.colab.patches import cv2_imshow\n",
        "from google.colab import drive\n",
        "drive.mount('/content/drive')\n",
        "img=cv2.imread('/content/drive/My Drive/Colab Notebooks/Kakao1.jpg')\n",
        "height,width=img.shape[:2]\n",
        "\n",
        "angle =45\n",
        "radian=angle*np.pi/180\n",
        "c=np.cos(radian)\n",
        "s=np.sin(radian)\n",
        "\n",
        "rotation_matrix=np.array([[c,s,0],[-s,c,0],[0,0,1]],dtype=float)\n",
        "dst = np.zeros(img.shape, dtype=np.uint8)\n",
        "for y in range(height-1):\n",
        "  for x in range(width-1):\n",
        "    new_p=np.array([x,y,1])\n",
        "    inv_rotation_matrix=np.linalg.inv(rotation_matrix)\n",
        "    old_p=np.dot(inv_rotation_matrix,new_p)\n",
        "    x_,y_=old_p[:2]\n",
        "    x_=int(x_)\n",
        "    y_=int(y_)\n",
        "\n",
        "    if x_>0 and x_<width and y_>0 and y_<height:\n",
        "      dst[y,x]:img[y_,x_]\n",
        "  result=cv2.hconcat([img,dst])\n",
        "  cv2_imshow(result)\n",
        "  cv2.waitKey(0)"
      ],
      "metadata": {
        "id": "DKU-UNja3U-0"
      },
      "execution_count": null,
      "outputs": []
    },
    {
      "cell_type": "code",
      "source": [
        "import cv2\n",
        "import numpy as np\n",
        "from google.colab.patches import cv2_imshow\n",
        "from google.colab import drive\n",
        "drive.mount('/content/drive')\n",
        "img=cv2.imread('/content/drive/My Drive/Colab Notebooks/Kakao1.jpg', cv2.IMREAD_COLOR)\n",
        "height,width=img.shape[:2]\n",
        "\n",
        "angle=45\n",
        "radian=angle*np.pi/180\n",
        "c=np.cos(radian)\n",
        "s=np.sin(radian)\n",
        "center_x=width/2\n",
        "center_y=height/2\n",
        "\n",
        "rotation_matrix=np.array([[c,s,(1-c)*center_x-s*center_y],[-s,c,s*center_x+(1-c)*center_y],[0,0,1]])\n",
        "dst=np.zeros(img.shape,dtype=np.unit8)\n",
        "for y in range(height-1):\n",
        "  for x in range(width-1):\n",
        "    new_p=np.array([x,y,1])\n",
        "    inv_rotation_matrix=np.linalg.inv(rotation_matrix)\n",
        "    old_p=np.dot(inv_rotation_matrix,new_p)\n",
        "    x_,y_=old_p[:2]\n",
        "    x_=int(x_)\n",
        "    y_=int(y_)\n",
        "\n",
        "    if x_>0 and x_<width and y_>0 and y_<height:\n",
        "      dst[y,x]:img[y_,x_]\n",
        "  result=cv2.hconcat([img,dst])\n",
        "  cv2_imshow(result)\n",
        "  cv2.waitkey(0)"
      ],
      "metadata": {
        "id": "TZrQVkFJ3tDA"
      },
      "execution_count": null,
      "outputs": []
    },
    {
      "cell_type": "code",
      "source": [
        "import cv2\n",
        "import numpy as np\n",
        "from google.colab.patches import cv2_imshow\n",
        "from google.colab import drive\n",
        "drive.mount('/content/drive')\n",
        "img=cv2.imread('/content/drive/My Drive/Colab Notebooks/Kakao1.jpg', cv2.IMREAD_COLOR)\n",
        "height,width=img.shape[:2]\n",
        "\n",
        "angle=45\n",
        "center=(width/2, height/2)\n",
        "rotation_matrix=cv2.getRotationMatrix2D(center, angle, 1)\n",
        "dst = cv2.wrapAffing(img,rotation_mmatrix, (width,height))\n",
        "result = cv2.hconcat([img,dst])\n",
        "cv2_imshow(result)\n",
        "cv2.waitKey(0)"
      ],
      "metadata": {
        "id": "1Ky87ALu35fX"
      },
      "execution_count": null,
      "outputs": []
    },
    {
      "cell_type": "code",
      "source": [
        "import cv2\n",
        "import numpy as np\n",
        "from google.colab.patches import cv2_imshow\n",
        "from google.colab import drive\n",
        "drive.mount('/content/drive')\n",
        "img=cv2.imread('/content/drive/My Drive/Colab Notebooks/Kakao1.jpg', cv2.IMREAD_COLOR)\n",
        "height,width=img.shape[:2]\n",
        "scale_factor=0.5\n",
        "scaling_matrix=np.array([[scale_factor,0,0],[0,scale_factor,0],[0,0,1]])\n",
        "dst=np.zeros((height,width,img.shape[2]),dtype=np.uint8)\n",
        "for y in range(height):\n",
        "  for x in range(width):\n",
        "    new_p=np.array([x,y,1])\n",
        "    inv_scaling_matrix=np.linalg.inv(scaling_matrix)\n",
        "    old_p=np.dot(inv_scaling_matrix,new_p)\n",
        "    x_ ,y_=old_p[:2]\n",
        "    x_=int(x_)\n",
        "    y_=int(y_)\n",
        "    if x_>0 and x_<width and y_ >0 and y_<height:\n",
        "      dst.itemset((y,x,0),img.item(y_,x_,0))\n",
        "      dst.itemset((y,x,1),img.item(y_,x_,1))\n",
        "      dst.itemset((y,x,2),img.item(y_,x_,2))\n",
        "\n",
        "result=cv2.hconcat([img,dst])\n",
        "cv2_imshow(result)\n",
        "cv2.waitkey(0)"
      ],
      "metadata": {
        "id": "WJ4-Vn8l4Wf5"
      },
      "execution_count": null,
      "outputs": []
    },
    {
      "cell_type": "code",
      "source": [
        "import cv2\n",
        "import numpy as np\n",
        "from google.colab.patches import cv2_imshow\n",
        "from google.colab import drive\n",
        "img=cv2.imread('/content/drive/My Drive/Colab Notebooks/Kakao1.jpg', cv2.IMREAD_COLOR)\n",
        "height,width=img.shape[:2]\n",
        "dst = cv2.resize(img, (int(width*1.5),int(height*1.5)))\n",
        "\n",
        "cv2_imshow(result)\n",
        "cv2.waitKey(0)"
      ],
      "metadata": {
        "id": "1_z0IjvP4eEl"
      },
      "execution_count": null,
      "outputs": []
    }
  ]
}