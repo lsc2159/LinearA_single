{
  "nbformat": 4,
  "nbformat_minor": 0,
  "metadata": {
    "colab": {
      "provenance": [],
      "gpuType": "T4",
      "cell_execution_strategy": "setup",
      "authorship_tag": "ABX9TyP/Ru8z0kJ2X8XmD9Pk+oqD",
      "include_colab_link": true
    },
    "kernelspec": {
      "name": "python3",
      "display_name": "Python 3"
    },
    "language_info": {
      "name": "python"
    },
    "accelerator": "GPU"
  },
  "cells": [
    {
      "cell_type": "markdown",
      "metadata": {
        "id": "view-in-github",
        "colab_type": "text"
      },
      "source": [
        "<a href=\"https://colab.research.google.com/github/lsc2159/LinearA_single/blob/main/%EC%84%A0%ED%98%95%EB%8C%80%EC%88%98%ED%95%992_01.ipynb\" target=\"_parent\"><img src=\"https://colab.research.google.com/assets/colab-badge.svg\" alt=\"Open In Colab\"/></a>"
      ]
    },
    {
      "cell_type": "code",
      "execution_count": 1,
      "metadata": {
        "id": "EaYBtaMUSQgl",
        "colab": {
          "base_uri": "https://localhost:8080/"
        },
        "outputId": "12b6c723-5849-42dc-f0f5-0359c141d09a"
      },
      "outputs": [
        {
          "output_type": "stream",
          "name": "stdout",
          "text": [
            "Hello, wolrd\n"
          ]
        }
      ],
      "source": [
        "print (\"Hello, wolrd\")"
      ]
    },
    {
      "cell_type": "code",
      "source": [],
      "metadata": {
        "id": "sd-xJaGRUGMw"
      },
      "execution_count": null,
      "outputs": []
    }
  ]
}