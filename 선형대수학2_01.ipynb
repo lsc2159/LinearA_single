{
  "nbformat": 4,
  "nbformat_minor": 0,
  "metadata": {
    "colab": {
      "provenance": [],
      "gpuType": "T4",
      "cell_execution_strategy": "setup",
      "authorship_tag": "ABX9TyOmzoLm3H6OxiU+CenOMrOd",
      "include_colab_link": true
    },
    "kernelspec": {
      "name": "python3",
      "display_name": "Python 3"
    },
    "language_info": {
      "name": "python"
    },
    "accelerator": "GPU"
  },
  "cells": [
    {
      "cell_type": "markdown",
      "metadata": {
        "id": "view-in-github",
        "colab_type": "text"
      },
      "source": [
        "<a href=\"https://colab.research.google.com/github/lsc2159/LinearA_single/blob/main/%EC%84%A0%ED%98%95%EB%8C%80%EC%88%98%ED%95%992_01.ipynb\" target=\"_parent\"><img src=\"https://colab.research.google.com/assets/colab-badge.svg\" alt=\"Open In Colab\"/></a>"
      ]
    },
    {
      "cell_type": "code",
      "execution_count": 1,
      "metadata": {
        "id": "EaYBtaMUSQgl",
        "colab": {
          "base_uri": "https://localhost:8080/"
        },
        "outputId": "12b6c723-5849-42dc-f0f5-0359c141d09a"
      },
      "outputs": [
        {
          "output_type": "stream",
          "name": "stdout",
          "text": [
            "Hello, wolrd\n"
          ]
        }
      ],
      "source": [
        "print (\"Hello, wolrd\")"
      ]
    },
    {
      "cell_type": "code",
      "source": [
        "dic=dict()\n",
        "dic[\"name\"]=\"Daesik\"\n",
        "dic[\"town\"]=\"Yongin city\"\n",
        "dic[\"job\"]=\"Assistant professor\"\n",
        "print(dic)"
      ],
      "metadata": {
        "id": "sd-xJaGRUGMw"
      },
      "execution_count": null,
      "outputs": []
    },
    {
      "cell_type": "code",
      "source": [
        "class Student:\n",
        "  def __init__(self, name):\n",
        "    self.name=name\n",
        "  def study(self, hard=False):\n",
        "    if hard:\n",
        "      print(\"%s 학생은 열심히 공부합니다.\" %self.name)\n",
        "    else:\n",
        "      print(\"%s 학생은 공부합니다.\" %self.name)\n",
        "s=Student('Daesik')\n",
        "s.study()\n",
        "s.study(hard=True)"
      ],
      "metadata": {
        "colab": {
          "base_uri": "https://localhost:8080/"
        },
        "id": "TrUVzl9Qa3Xu",
        "outputId": "6cfe6e4a-4b83-4312-ce94-5490fd24a084"
      },
      "execution_count": 2,
      "outputs": [
        {
          "output_type": "stream",
          "name": "stdout",
          "text": [
            "Daesik 학생은 공부합니다.\n",
            "Daesik 학생은 열심히 공부합니다.\n"
          ]
        }
      ]
    },
    {
      "cell_type": "code",
      "source": [
        "a=[]\n",
        "b=[1,2,3]\n",
        "c=[\"Hello\",\",\",\"world\"]\n",
        "d=[1,2,3,\"x\",\"y\",\"z\"]\n",
        "x=[]\n",
        "print(x)\n",
        "\n",
        "x.append('a')\n",
        "print (x)\n",
        "\n",
        "x.append(123)\n",
        "print(x)\n",
        "\n",
        "x.append([\"a\",\"b\"])\n",
        "print x"
      ],
      "metadata": {
        "id": "75_1SXXmbYxt"
      },
      "execution_count": null,
      "outputs": []
    },
    {
      "cell_type": "code",
      "source": [],
      "metadata": {
        "id": "-QQT3LS7bzdB"
      },
      "execution_count": null,
      "outputs": []
    }
  ]
}