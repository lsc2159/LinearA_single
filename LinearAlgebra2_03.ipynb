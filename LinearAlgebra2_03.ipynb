{
  "nbformat": 4,
  "nbformat_minor": 0,
  "metadata": {
    "colab": {
      "provenance": [],
      "gpuType": "T4",
      "authorship_tag": "ABX9TyO3smZ5g0awH8JdAkgqlSIo",
      "include_colab_link": true
    },
    "kernelspec": {
      "name": "python3",
      "display_name": "Python 3"
    },
    "language_info": {
      "name": "python"
    },
    "accelerator": "GPU"
  },
  "cells": [
    {
      "cell_type": "markdown",
      "metadata": {
        "id": "view-in-github",
        "colab_type": "text"
      },
      "source": [
        "<a href=\"https://colab.research.google.com/github/lsc2159/LinearA_single/blob/main/LinearAlgebra2_03.ipynb\" target=\"_parent\"><img src=\"https://colab.research.google.com/assets/colab-badge.svg\" alt=\"Open In Colab\"/></a>"
      ]
    },
    {
      "cell_type": "code",
      "execution_count": null,
      "metadata": {
        "id": "9EJqP7gSVOnp"
      },
      "outputs": [],
      "source": [
        "import numpy as np\n",
        "import matplotlib.pyplot as plt\n",
        "\n",
        "a=np.array([4,3])\n",
        "fig=plt.figure()\n",
        "ax=fig.add_subplot(1,1,1)\n",
        "\n",
        "ax.scatter(a[0],a[1],s=30)\n",
        "ax.text(a[0]+0.2, a[1]+0.2, 'a', size=15)\n",
        "ax.set_xticks(range(-5,6))\n",
        "ax.set_yticks(range(-5,6))\n",
        "ax.grid()\n",
        "ax.set_axisbelow(True)\n",
        "ax.set_aspect('equal', adjustable='box')\n",
        "ax.spines['left'].set_position('zero')\n",
        "ax.spines['bottom'].set_position('zero')\n",
        "\n",
        "ax.spines['right'].set_color('none')\n",
        "ax.spines['top'].set_color('none')\n",
        "plt.show()"
      ]
    },
    {
      "cell_type": "code",
      "source": [
        "import numpy as np\n",
        "import matplotlib.pyplot as plt\n",
        "\n",
        "a=np.array([4,3])\n",
        "fig=plt.figure()\n",
        "ax=fig.add_subplot(1,1,1)\n",
        "\n",
        "ax.quiver(0,0,a[0],a[1],angles='xy', scale_units='xy', scale=1)\n",
        "ax.text(a[0], a[1], 'a',size=15)\n",
        "ax.set_xticks(range(0,7))\n",
        "ax.set_yticks(range(0,7))\n",
        "\n",
        "ax.grid()\n",
        "ax.set_axisbelow(True)\n",
        "ax.set_aspect('equal',adjustable='box')\n",
        "\n",
        "ax.spines['left'].set_position('zero')\n",
        "ax.spines['bottom'].set_position('zero')\n",
        "\n",
        "ax.spines['right'].set_color('none')\n",
        "ax.spines['top'].set_color('none')\n",
        "plt.show()"
      ],
      "metadata": {
        "id": "0eFOcldVWPy1"
      },
      "execution_count": null,
      "outputs": []
    },
    {
      "cell_type": "code",
      "source": [
        "import numpy as np\n",
        "import matplotlib.pyplot as plt\n",
        "\n",
        "A=np.array([1,-2])\n",
        "B=np.array([4,3])\n",
        "\n",
        "f,ax=plt.subplots(1,2)\n",
        "ax[0].title.set_text('A')\n",
        "ax[1].title.set_text('B')\n",
        "\n",
        "ax[0].quiver(0,0,A[0],A[1],angles='xy', scale_units='xy', scale=1)\n",
        "ax[1].quiver(0,0,B[0],B[1],angles='xy', scale_units='xy', scale=1)\n",
        "\n",
        "start_x=-1\n",
        "end_x=5\n",
        "start_y=-3\n",
        "end_y=4\n",
        "\n",
        "for i in range(2):\n",
        "  ax[i].axis([start_x,end_x,start_y,end_y])\n",
        "  ax[i].set_xticks(range(start_x,end_x))\n",
        "  ax[i].set_yticks(range(start_y,end_y))\n",
        "  ax[i].grid(True)\n",
        "  ax[i].set_aspect('equal',adjustable='box')\n",
        "\n",
        "plt.show()"
      ],
      "metadata": {
        "id": "_x1QewIPXN_i"
      },
      "execution_count": null,
      "outputs": []
    },
    {
      "cell_type": "code",
      "source": [
        "import numpy as np\n",
        "import matplotlib.pyplot as plt\n",
        "\n",
        "A=np.array([4,5,6])\n",
        "fig=plt.figure()\n",
        "\n",
        "ax=fig.add_subplot(1,1,1,projection='3d')\n",
        "\n",
        "ax.quiver(0,0,0,A[0],A[1],A[2],color='black',arrow_length_ratio=0.1)\n",
        "ax.text(A[0],A[1],A[2],'a',size=15)\n",
        "\n",
        "ax.set_xlim(0,8)\n",
        "ax.set_ylim(0,8)\n",
        "ax.set_zlim(0,8)\n",
        "ax.set_xlabel('X')\n",
        "ax.set_xlabel('Y')\n",
        "ax.set_xlabel('Z')\n",
        "ax.view_init(elev=20,azim=5)\n",
        "ax.grid()\n",
        "ax.set_axisbelow(True)\n",
        "ax.set_aspect('auto',adjustable='box')\n",
        "plt.show()"
      ],
      "metadata": {
        "id": "jXntegMJYF3R"
      },
      "execution_count": null,
      "outputs": []
    },
    {
      "cell_type": "code",
      "source": [
        "import numpy as np\n",
        "a=np.array([4,3])\n",
        "print(a.shape)\n",
        "a.shape=(2,1)\n",
        "print(a)\n",
        "a.shape=(1,2)\n",
        "print(a)"
      ],
      "metadata": {
        "colab": {
          "base_uri": "https://localhost:8080/"
        },
        "id": "qYplUHoHcGRI",
        "outputId": "cdc25796-7818-49f9-a8b0-adaab69b4a81"
      },
      "execution_count": 7,
      "outputs": [
        {
          "output_type": "stream",
          "name": "stdout",
          "text": [
            "(2,)\n",
            "[[4]\n",
            " [3]]\n",
            "[[4 3]]\n"
          ]
        }
      ]
    },
    {
      "cell_type": "code",
      "source": [
        "import numpy as np\n",
        "import matplotlib.pyplot as plt\n",
        "\n",
        "i=np.array([1,0])\n",
        "j=np.array([0,1])\n",
        "\n",
        "a=4*i+3*j\n",
        "\n",
        "fig=plt.figure()\n",
        "ax=fig.add_subplot(1,1,1)\n",
        "\n",
        "ax.quiver(0,0,a[0],a[1],angles='xy',scale_units='xy',scale=1)\n",
        "ax.text(a[0],a[1],'4i+3j',size=15)\n",
        "\n",
        "ax.set_xticks(range(0,7))\n",
        "ax.set_yticks(range(0,7))\n",
        "ax.grid()\n",
        "ax.set_axisbelow(True)\n",
        "ax.set_aspect('equal',adjustable='box')\n",
        "\n",
        "ax.spines['left'].set_position('zero')\n",
        "ax.spines['bottom'].set_position('zero')\n",
        "\n",
        "ax.spines['right'].set_color('none')\n",
        "ax.spines['top'].set_color('none')\n",
        "plt.show()"
      ],
      "metadata": {
        "id": "wO8gJgL8c-Lr"
      },
      "execution_count": null,
      "outputs": []
    },
    {
      "cell_type": "code",
      "source": [
        "import numpy as np\n",
        "import matplotlib.pyplot as plt\n",
        "\n",
        "a=np.array([4,1])\n",
        "b=np.array([-2,3])\n",
        "sum=a+b\n",
        "\n",
        "fig=plt.figure()\n",
        "ax=fig.add_subplot(1,1,1)\n",
        "ax.quiver(0,0,a[0],a[1],angles='xy',scale_units='xy',scale=1,color='blue')\n",
        "ax.text(a[0],a[1],'a',size=15)\n",
        "\n",
        "ax.quiver(a[0],a[1],b[0],b[1],angles='xy',scale_units='xy',scale=1,color='green')\n",
        "ax.text(a[0]+b[0],a[1]+b[1],'b',size=15)\n",
        "\n",
        "ax.quiver(0,0,sum[0],sum[1],angles='xy',scale_units='xy',scale=1,color='red')\n",
        "ax.text(sum[0]*0.5+0.3,b[1],'a+b',size=15,color='blue')\n",
        "\n",
        "ax.set_xticks(range(0,7))\n",
        "ax.set_yticks(range(0,7))\n",
        "ax.grid()\n",
        "ax.set_axisbelow(True)\n",
        "ax.set_aspect('equal',adjustable='box')\n",
        "\n",
        "ax.spines['left'].set_position('zero')\n",
        "ax.spines['bottom'].set_position('zero')\n",
        "\n",
        "ax.spines['right'].set_color('none')\n",
        "ax.spines['top'].set_color('none')\n",
        "plt.show()"
      ],
      "metadata": {
        "id": "r5wkFOyoeg1J"
      },
      "execution_count": null,
      "outputs": []
    },
    {
      "cell_type": "code",
      "source": [
        "import numpy as np\n",
        "import matplotlib.pyplot as plt\n",
        "\n",
        "a=np.array([4,1])\n",
        "b=np.array([-2,3])\n",
        "sum=a-b\n",
        "\n",
        "fig=plt.figure()\n",
        "ax=fig.add_subplot(1,1,1)\n",
        "ax.quiver(0,0,a[0],a[1],angles='xy',scale_units='xy',scale=1,color='blue')\n",
        "ax.text(a[0],a[1],'a',size=15)\n",
        "\n",
        "ax.quiver(a[0],a[1],-b[0],-b[1],angles='xy',scale_units='xy',scale=1,color='green')\n",
        "ax.text(a[0]-b[0],a[1]-b[1],'b',size=15)\n",
        "\n",
        "ax.quiver(0,0,sum[0],sum[1],angles='xy',scale_units='xy',scale=1,color='red')\n",
        "ax.text(sum[0]*0.5+0.3,b[1],'a-b',size=15,color='blue')\n",
        "\n",
        "ax.set_xticks(range(-2,8))\n",
        "ax.set_yticks(range(-4,5))\n",
        "ax.grid()\n",
        "ax.set_axisbelow(True)\n",
        "ax.set_aspect('equal',adjustable='box')\n",
        "\n",
        "ax.spines['left'].set_position('zero')\n",
        "ax.spines['bottom'].set_position('zero')\n",
        "ax.spines['right'].set_color('none')\n",
        "ax.spines['top'].set_color('none')\n",
        "plt.show()"
      ],
      "metadata": {
        "id": "I51y22WAfzt1"
      },
      "execution_count": null,
      "outputs": []
    },
    {
      "cell_type": "code",
      "source": [
        "import numpy as np\n",
        "import matplotlib.pyplot as plt\n",
        "\n",
        "a=np.array([4,1])\n",
        "c=3\n",
        "ca=np.multiply(c,a)\n",
        "\n",
        "fig=plt.figure()\n",
        "ax=fig.add_subplot(1,1,1)\n",
        "\n",
        "plt.quiver(0,0,a[0],a[1],angles='xy',scale_units='xy',scale=1,color='blue')\n",
        "ax.text(a[0],a[1],'a',size=15)\n",
        "\n",
        "ax.quiver(0,1,ca[0],ca[1],angles='xy',scale_units='xy',scale=1,color='green')\n",
        "ax.text(ca[0],ca[1]+1,'3a',size=15,color='blue')\n",
        "\n",
        "ax.set_xticks(range(-2,15))\n",
        "ax.set_yticks(range(-3,9))\n",
        "ax.grid()\n",
        "ax.set_axisbelow(True)\n",
        "ax.set_aspect('equal',adjustable='box')\n",
        "\n",
        "ax.spines['left'].set_position('zero')\n",
        "ax.spines['bottom'].set_position('zero')\n",
        "ax.spines['right'].set_color('none')\n",
        "ax.spines['top'].set_color('none')\n",
        "plt.show()"
      ],
      "metadata": {
        "id": "YQ6Byssgg2rW"
      },
      "execution_count": null,
      "outputs": []
    },
    {
      "cell_type": "code",
      "source": [
        "#내적 dot 함수\n",
        "import numpy as np\n",
        "a=np.array([1,2])\n",
        "b=np.array([2,3])\n",
        "print(np.dot(a,b))\n",
        "#norm\n",
        "a=np.array([1,2])\n",
        "print(np.linalg.norm(a))\n",
        "print(np.sqrt(5))"
      ],
      "metadata": {
        "id": "hJtljSfKhpXU"
      },
      "execution_count": null,
      "outputs": []
    },
    {
      "cell_type": "code",
      "source": [
        "#벡터 자기 자신에 대한 내적의 제곱근은 벡터의 크기와 같다.\n",
        "import numpy as np\n",
        "a=np.array([1,2])\n",
        "print(np.sqrt(np.dot(a,a)))\n",
        "print(np.linalg.norm(a))\n",
        "\n",
        "#45도 각도를 이루고 있는 벡터 a와 벡터 b의 내적은 2가지 방법으로 구할 수 있다.\n",
        "a=np.array([3,3])\n",
        "b=np.array([3,0])\n",
        "#method 1\n",
        "print(np.dot(a,b))\n",
        "#method 2\n",
        "norm_a=np.linalg.norm(a)\n",
        "norm_b=np.linalg.norm(b)\n",
        "print(norm_a*norm_b*np.cos(45*np.pi/180))\n",
        "\n",
        "a=np.array([3,0])\n",
        "b=np.array([0,3])\n",
        "print(np.dot(a,b))"
      ],
      "metadata": {
        "id": "i-r9M3LrkIHT"
      },
      "execution_count": null,
      "outputs": []
    },
    {
      "cell_type": "code",
      "source": [
        "#Cross product\n",
        "import numpy as np\n",
        "v=np.array([5,3,0])\n",
        "w=np.array([1,2,0])\n",
        "print(np.cross(v,w))\n",
        "\n",
        "import matplotlib.pyplot as plt\n",
        "from mpl_toolkits.mplot3d import Axes3D\n",
        "a=np.array([5,3,0])\n",
        "b=np.array([1,2,0])\n",
        "#Cross product\n",
        "c=np.cross(a,b)\n",
        "fig=plt.figure()\n",
        "ax=fig.add_subplot(1,1,1,projection='3d')\n",
        "#vector a\n",
        "ax.quiver(0,0,0,a[0],a[1],a[2],color='black',arrow_length_ratio=0.1)\n",
        "ax.text(a[0],a[1],a[2],'a',size=15)\n",
        "#vector b\n",
        "ax.quiver(0,0,0,b[0],b[1],b[2],color='red',arrow_length_ratio=0.1)\n",
        "ax.text(b[0],b[1],b[2],'b',size=15)\n",
        "#vector a,b cross product\n",
        "ax.quiver(0,0,0,c[0],c[1],c[2],color='blue',arrow_length_ratio=0.1)\n",
        "ax.text(c[0],c[1],c[2],'c',size=15)\n",
        "ax.set_xlim(0,7)\n",
        "ax.set_ylim(0,7)\n",
        "ax.set_zlim(0,8)\n",
        "ax.set_xlabel('X')\n",
        "ax.set_xlabel('Y')\n",
        "ax.set_xlabel('Z')\n",
        "ax.view_init(elev=20,azim=5)\n",
        "ax.grid()\n",
        "ax.set_axisbelow(True)\n",
        "ax.set_aspect('auto',adjustable='box')\n",
        "plt.show()"
      ],
      "metadata": {
        "id": "li48atS6kstT"
      },
      "execution_count": null,
      "outputs": []
    },
    {
      "cell_type": "code",
      "source": [
        "#두 벡터 평행? 외적=0\n",
        "import numpy as np\n",
        "a=np.array([3,3,0])\n",
        "b=np.array([6,6,0])\n",
        "print(np.cross(a,b))\n",
        "\n",
        "import matplotlib.pyplot as plt\n",
        "from mpl_toolkits.mplot3d import Axes3D\n",
        "a=np.array([3,3,0])\n",
        "b=np.array([6,6,0])\n",
        "#Cross product\n",
        "c=np.cross(a,b)\n",
        "fig=plt.figure()\n",
        "ax=fig.add_subplot(1,1,1,projection='3d')\n",
        "#vector a\n",
        "ax.quiver(0,0,0,a[0],a[1],a[2],color='black',arrow_length_ratio=0.1)\n",
        "ax.text(a[0],a[1],a[2],'a',size=15)\n",
        "#vector b\n",
        "ax.quiver(0,0,0,b[0],b[1],b[2],color='red',arrow_length_ratio=0.1)\n",
        "ax.text(b[0],b[1],b[2],'b',size=15)\n",
        "#vector a,b cross product\n",
        "ax.quiver(0,0,0,c[0],c[1],c[2],color='blue',arrow_length_ratio=0.1)\n",
        "ax.text(c[0],c[1],c[2],'c',size=15)\n",
        "ax.set_xlim(0,7)\n",
        "ax.set_ylim(0,7)\n",
        "ax.set_zlim(0,8)\n",
        "ax.set_xlabel('X')\n",
        "ax.set_xlabel('Y')\n",
        "ax.set_xlabel('Z')\n",
        "ax.view_init(elev=20,azim=5)\n",
        "ax.grid()\n",
        "ax.set_axisbelow(True)\n",
        "ax.set_aspect('auto',adjustable='box')\n",
        "plt.show()"
      ],
      "metadata": {
        "id": "HJMH96wKmAUn"
      },
      "execution_count": null,
      "outputs": []
    },
    {
      "cell_type": "code",
      "source": [
        "#Def of Matrix\n",
        "import numpy as np\n",
        "A=np.array([[1,2,3,4,],[5,6,7,8]])\n",
        "#Matrix of A 구성하는 Row vector\n",
        "print(A[0])\n",
        "print(A[0,:])\n",
        "print(A[1])\n",
        "print(A[1,:])\n",
        "#Matrix of A 구성하는 Col vector\n",
        "print(A[:,0])\n",
        "print(A[:,1])\n",
        "print(A[:,2])\n",
        "print(A[:,3])\n",
        "\n",
        "#Matrix Plus & Minus\n",
        "A=np.array([[1,2],[3,4]])\n",
        "B=np.array([[4,1],[5,2]])\n",
        "#Matrix of A Row vector\n",
        "print(A+B)\n",
        "print(np.add(A,B))\n",
        "print(A-B)\n",
        "print(np.subtract(A,B))\n",
        "#Maxtrix Scalar\n",
        "A=np.arange(9).reshape(3,3)\n",
        "print(A)\n",
        "c=10\n",
        "print(np.multiply(c,A))\n",
        "print(c*A)"
      ],
      "metadata": {
        "id": "aew7v0NdmYNC"
      },
      "execution_count": null,
      "outputs": []
    },
    {
      "cell_type": "code",
      "source": [
        "#product of matrix\n",
        "import numpy as np\n",
        "A=np.array([[1,2,3,],[4,5,6]])\n",
        "B=np.array([[4,1],[5,2],[1,2]])\n",
        "#Matrix of A , Row vector\n",
        "print(A)\n",
        "print(B)\n",
        "print(A.dot(B))\n",
        "print(np.dot(A,B))\n",
        "\n",
        "A=np.array([[1,2,],[3,4]])\n",
        "B=np.array([[4,1],[5,2]])\n",
        "#Matrix of A, row vector\n",
        "print(A*B)\n",
        "print(np.multiply(A,B))"
      ],
      "metadata": {
        "id": "WMfZSWbmoFmo"
      },
      "execution_count": null,
      "outputs": []
    },
    {
      "cell_type": "code",
      "source": [
        "#벡터의 전치\n",
        "import numpy as np\n",
        "X=np.array([[1,2],[3,4,],[5,6]])\n",
        "print(X)\n",
        "print(X.T)\n",
        "print(np.transpose(X))"
      ],
      "metadata": {
        "id": "Hz7HFc0qpfhT"
      },
      "execution_count": null,
      "outputs": []
    },
    {
      "cell_type": "code",
      "source": [
        "#항등행렬 역행렬\n",
        "import numpy as np\n",
        "I=np.eye(3)\n",
        "A=np.arange(9).reshape(3,3)\n",
        "print(A)\n",
        "\n",
        "print((np.dot(A,I)==A).all())\n",
        "print((np.dot(I,A)==A).all())"
      ],
      "metadata": {
        "id": "ejAa6axKprvu"
      },
      "execution_count": null,
      "outputs": []
    },
    {
      "cell_type": "code",
      "source": [
        "#역행렬\n",
        "import numpy as np\n",
        "A=np.array([[1,2],[3,4]])\n",
        "invA=np.linalg.inv(A)\n",
        "print(invA)\n",
        "\n",
        "print(np.dot(A,invA))\n",
        "print(np.round(np.dot(A,invA)))\n",
        "print(np.round(np.dot(invA,A)))"
      ],
      "metadata": {
        "id": "bejzc0llp84W"
      },
      "execution_count": null,
      "outputs": []
    }
  ]
}