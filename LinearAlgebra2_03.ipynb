{
  "nbformat": 4,
  "nbformat_minor": 0,
  "metadata": {
    "colab": {
      "provenance": [],
      "gpuType": "T4",
      "authorship_tag": "ABX9TyP/LCIjR+8vrOU3SUSjruo2",
      "include_colab_link": true
    },
    "kernelspec": {
      "name": "python3",
      "display_name": "Python 3"
    },
    "language_info": {
      "name": "python"
    },
    "accelerator": "GPU"
  },
  "cells": [
    {
      "cell_type": "markdown",
      "metadata": {
        "id": "view-in-github",
        "colab_type": "text"
      },
      "source": [
        "<a href=\"https://colab.research.google.com/github/lsc2159/LinearA_single/blob/main/LinearAlgebra2_03.ipynb\" target=\"_parent\"><img src=\"https://colab.research.google.com/assets/colab-badge.svg\" alt=\"Open In Colab\"/></a>"
      ]
    },
    {
      "cell_type": "code",
      "execution_count": null,
      "metadata": {
        "id": "9EJqP7gSVOnp"
      },
      "outputs": [],
      "source": [
        "import numpy as np\n",
        "import matplotlib.pyplot as plt\n",
        "\n",
        "a=np.array([4,3])\n",
        "fig=plt.figure()\n",
        "ax=fig.add_subplot(1,1,1)\n",
        "\n",
        "ax.scatter(a[0],a[1],s=30)\n",
        "ax.text(a[0]+0.2, a[1]+0.2, 'a', size=15)\n",
        "ax.set_xticks(range(-5,6))\n",
        "ax.set_yticks(range(-5,6))\n",
        "ax.grid()\n",
        "ax.set_axisbelow(True)\n",
        "ax.set_aspect('equal', adjustable='box')\n",
        "ax.spines['left'].set_position('zero')\n",
        "ax.spines['bottom'].set_position('zero')\n",
        "\n",
        "ax.spines['right'].set_color('none')\n",
        "ax.spines['top'].set_color('none')\n",
        "plt.show()"
      ]
    },
    {
      "cell_type": "code",
      "source": [
        "import numpy as np\n",
        "import matplotlib.pyplot as plt\n",
        "\n",
        "a=np.array([4,3])\n",
        "fig=plt.figure()\n",
        "ax=fig.add_subplot(1,1,1)\n",
        "\n",
        "ax.quiver(0,0,a[0],a[1],angles='xy', scale_units='xy', scale=1)\n",
        "ax.text(a[0], a[1], 'a',size=15)\n",
        "ax.set_xticks(range(0,7))\n",
        "ax.set_yticks(range(0,7))\n",
        "\n",
        "ax.grid()\n",
        "ax.set_axisbelow(True)\n",
        "ax.set_aspect('equal',adjustable='box')\n",
        "\n",
        "ax.spines['left'].set_position('zero')\n",
        "ax.spines['bottom'].set_position('zero')\n",
        "\n",
        "ax.spines['right'].set_color('none')\n",
        "ax.spines['top'].set_color('none')\n",
        "plt.show()"
      ],
      "metadata": {
        "id": "0eFOcldVWPy1"
      },
      "execution_count": null,
      "outputs": []
    },
    {
      "cell_type": "code",
      "source": [
        "import numpy as np\n",
        "import matplotlib.pyplot as plt\n",
        "\n",
        "A=np.array([1,-2])\n",
        "B=np.array([4,3])\n",
        "\n",
        "f,ax=plt.subplots(1,2)\n",
        "ax[0].title.set_text('A')\n",
        "ax[1].title.set_text('B')\n",
        "\n",
        "ax[0].quiver(0,0,A[0],A[1],angles='xy', scale_units='xy', scale=1)\n",
        "ax[1].quiver(0,0,B[0],B[1],angles='xy', scale_units='xy', scale=1)\n",
        "\n",
        "start_x=-1\n",
        "end_x=5\n",
        "start_y=-3\n",
        "end_y=4\n",
        "\n",
        "for i in range(2):\n",
        "  ax[i].axis([start_x,end_x,start_y,end_y])\n",
        "  ax[i].set_xticks(range(start_x,end_x))\n",
        "  ax[i].set_yticks(range(start_y,end_y))\n",
        "  ax[i].grid(True)\n",
        "  ax[i].set_aspect('equal',adjustable='box')\n",
        "\n",
        "plt.show()"
      ],
      "metadata": {
        "id": "_x1QewIPXN_i"
      },
      "execution_count": null,
      "outputs": []
    },
    {
      "cell_type": "code",
      "source": [
        "import numpy as np\n",
        "import matplotlib.pyplot as plt\n",
        "\n",
        "A=np.array([4,5,6])\n",
        "fig=plt.figure()\n",
        "\n",
        "ax=fig.add_subplot(1,1,1,projection='3d')\n",
        "\n",
        "ax.quiver(0,0,0,A[0],A[1],A[2],color='black',arrow_length_ratio=0.1)\n",
        "ax.text(A[0],A[1],A[2],'a',size=15)\n",
        "\n",
        "ax.set_xlim(0,8)\n",
        "ax.set_ylim(0,8)\n",
        "ax.set_zlim(0,8)\n",
        "ax.set_xlabel('X')\n",
        "ax.set_xlabel('Y')\n",
        "ax.set_xlabel('Z')\n",
        "ax.view_init(elev=20,azim=5)\n",
        "ax.grid()\n",
        "ax.set_axisbelow(True)\n",
        "ax.set_aspect('auto',adjustable='box')\n",
        "plt.show()"
      ],
      "metadata": {
        "id": "jXntegMJYF3R"
      },
      "execution_count": null,
      "outputs": []
    }
  ]
}