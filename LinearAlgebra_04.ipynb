{
  "nbformat": 4,
  "nbformat_minor": 0,
  "metadata": {
    "colab": {
      "provenance": [],
      "authorship_tag": "ABX9TyO7/E7eGl+EQ4TOEa3rg0l8",
      "include_colab_link": true
    },
    "kernelspec": {
      "name": "python3",
      "display_name": "Python 3"
    },
    "language_info": {
      "name": "python"
    }
  },
  "cells": [
    {
      "cell_type": "markdown",
      "metadata": {
        "id": "view-in-github",
        "colab_type": "text"
      },
      "source": [
        "<a href=\"https://colab.research.google.com/github/lsc2159/LinearA_single/blob/main/LinearAlgebra_04.ipynb\" target=\"_parent\"><img src=\"https://colab.research.google.com/assets/colab-badge.svg\" alt=\"Open In Colab\"/></a>"
      ]
    },
    {
      "cell_type": "code",
      "execution_count": null,
      "metadata": {
        "colab": {
          "base_uri": "https://localhost:8080/"
        },
        "id": "0qWPEUFQY3ox",
        "outputId": "e0ff6627-6250-40d1-912a-957a5c577c35"
      },
      "outputs": [
        {
          "output_type": "stream",
          "name": "stdout",
          "text": [
            "[0 0 0]\n"
          ]
        }
      ],
      "source": [
        "import numpy as np\n",
        "A=np.array([1,2,3])\n",
        "B=np.array([-1,-2,-3])\n",
        "C=A+B\n",
        "\n",
        "print(C)"
      ]
    },
    {
      "cell_type": "code",
      "source": [
        "c=np.array([1,2,3], dtype=np.float64)\n",
        "c\n",
        "c.dtype\n",
        "type(c[0])"
      ],
      "metadata": {
        "colab": {
          "base_uri": "https://localhost:8080/"
        },
        "id": "W2LYQl1bafxc",
        "outputId": "19cf5c1a-6cb3-4fc8-e2ee-a09116df54e6"
      },
      "execution_count": null,
      "outputs": [
        {
          "output_type": "execute_result",
          "data": {
            "text/plain": [
              "numpy.float64"
            ]
          },
          "metadata": {},
          "execution_count": 7
        }
      ]
    },
    {
      "cell_type": "code",
      "source": [
        "d=np.array([1.1,2.2,3.3,4.9])\n",
        "d.dtype\n",
        "e=d.astype(np.int32)\n",
        "e"
      ],
      "metadata": {
        "colab": {
          "base_uri": "https://localhost:8080/"
        },
        "id": "3oe4jRemax10",
        "outputId": "f7fac3d4-09a8-4d92-80b1-9513e510e664"
      },
      "execution_count": null,
      "outputs": [
        {
          "output_type": "execute_result",
          "data": {
            "text/plain": [
              "array([1, 2, 3, 4], dtype=int32)"
            ]
          },
          "metadata": {},
          "execution_count": 10
        }
      ]
    },
    {
      "cell_type": "code",
      "source": [
        "A=np.array([[1,2,3],[4,5,6]])\n",
        "A\n",
        "type(A)\n",
        "A\n",
        "A.ndim\n",
        "A.shape"
      ],
      "metadata": {
        "colab": {
          "base_uri": "https://localhost:8080/"
        },
        "id": "KR5dON4IbHXt",
        "outputId": "a21d424c-4419-431d-e348-ba77a866e53f"
      },
      "execution_count": null,
      "outputs": [
        {
          "output_type": "execute_result",
          "data": {
            "text/plain": [
              "(2, 3)"
            ]
          },
          "metadata": {},
          "execution_count": 15
        }
      ]
    },
    {
      "cell_type": "code",
      "source": [
        "A=np.array([[1,2,3],[4,5,6]])\n",
        "A.size"
      ],
      "metadata": {
        "colab": {
          "base_uri": "https://localhost:8080/"
        },
        "id": "xIRNGCpKbPMk",
        "outputId": "ac62ec81-9c3a-402c-b75e-e4e98970dc7e"
      },
      "execution_count": null,
      "outputs": [
        {
          "output_type": "execute_result",
          "data": {
            "text/plain": [
              "6"
            ]
          },
          "metadata": {},
          "execution_count": 19
        }
      ]
    },
    {
      "cell_type": "code",
      "source": [
        "A=np.array([[1, 2, 3],\n",
        "            [4, 5, 6]])\n",
        "A.itemsize"
      ],
      "metadata": {
        "colab": {
          "base_uri": "https://localhost:8080/"
        },
        "id": "wCJtaKd0buVm",
        "outputId": "fccfc34c-55d7-4588-a210-76a36bf5bf08"
      },
      "execution_count": null,
      "outputs": [
        {
          "output_type": "execute_result",
          "data": {
            "text/plain": [
              "8"
            ]
          },
          "metadata": {},
          "execution_count": 22
        }
      ]
    },
    {
      "cell_type": "code",
      "source": [
        "A=np.array([[1,2,3],[4,5,6]])\n",
        "A.data"
      ],
      "metadata": {
        "colab": {
          "base_uri": "https://localhost:8080/"
        },
        "id": "IG1VaVf7b4uT",
        "outputId": "edd32368-5675-46b4-efe5-258ef039d4d3"
      },
      "execution_count": null,
      "outputs": [
        {
          "output_type": "execute_result",
          "data": {
            "text/plain": [
              "<memory at 0x7d2e8b421220>"
            ]
          },
          "metadata": {},
          "execution_count": 25
        }
      ]
    },
    {
      "cell_type": "code",
      "source": [
        "b=np.array([1,2,3,4,5,6])\n",
        "b.max() #6\n",
        "b.min()  #1\n",
        "b.sum()  #21\n",
        "b.mean() #3.5\n",
        "b.std() #1.707825127659933"
      ],
      "metadata": {
        "colab": {
          "base_uri": "https://localhost:8080/"
        },
        "id": "LBzb-Zd4cCqT",
        "outputId": "7758eeac-66ee-44a7-b1b2-b297ecb43fe3"
      },
      "execution_count": null,
      "outputs": [
        {
          "output_type": "execute_result",
          "data": {
            "text/plain": [
              "1.707825127659933"
            ]
          },
          "metadata": {},
          "execution_count": 32
        }
      ]
    },
    {
      "cell_type": "code",
      "source": [
        "c=np.array([[1,2],[3,4]])\n",
        "c #array([[1, 2],\n",
        "      # [3, 4]])\n",
        "c.sum(axis=0) #array([4, 6])\n",
        "c.sum(axis=1) #array([3, 7])"
      ],
      "metadata": {
        "colab": {
          "base_uri": "https://localhost:8080/"
        },
        "id": "I7URjUJmcSzV",
        "outputId": "d1360588-46f9-4a65-8a17-b6c1d5cb9a5b"
      },
      "execution_count": null,
      "outputs": [
        {
          "output_type": "execute_result",
          "data": {
            "text/plain": [
              "array([3, 7])"
            ]
          },
          "metadata": {},
          "execution_count": 35
        }
      ]
    },
    {
      "cell_type": "code",
      "source": [],
      "metadata": {
        "id": "ytRKJyQfcpru"
      },
      "execution_count": null,
      "outputs": []
    },
    {
      "cell_type": "code",
      "source": [
        "import numpy as np\n",
        "B=np.array([[0,1,2,3],[4,5,6,7],[8,9,10,11]])\n",
        "print(B)\n",
        "print(B.shape)"
      ],
      "metadata": {
        "colab": {
          "base_uri": "https://localhost:8080/"
        },
        "id": "Pm4RFmidcp2r",
        "outputId": "35e25e35-9107-4347-ea88-23d7fd8c5a42"
      },
      "execution_count": null,
      "outputs": [
        {
          "output_type": "stream",
          "name": "stdout",
          "text": [
            "[[ 0  1  2  3]\n",
            " [ 4  5  6  7]\n",
            " [ 8  9 10 11]]\n",
            "(3, 4)\n"
          ]
        }
      ]
    },
    {
      "cell_type": "code",
      "source": [
        "import numpy as np\n",
        "C=np.arange(24).reshape(2,3,4)\n",
        "print(C)\n",
        "print(C.shape)"
      ],
      "metadata": {
        "colab": {
          "base_uri": "https://localhost:8080/"
        },
        "id": "STBB88JAfHtY",
        "outputId": "4d241059-e2c7-4774-e114-ffe054e27fb8"
      },
      "execution_count": null,
      "outputs": [
        {
          "output_type": "stream",
          "name": "stdout",
          "text": [
            "[[[ 0  1  2  3]\n",
            "  [ 4  5  6  7]\n",
            "  [ 8  9 10 11]]\n",
            "\n",
            " [[12 13 14 15]\n",
            "  [16 17 18 19]\n",
            "  [20 21 22 23]]]\n",
            "(2, 3, 4)\n"
          ]
        }
      ]
    },
    {
      "cell_type": "code",
      "source": [
        "import numpy as np\n",
        "A=np.linspace(0,10,10)\n",
        "print(A)\n",
        "B=np.linspace(0,100)\n",
        "print(B)"
      ],
      "metadata": {
        "colab": {
          "base_uri": "https://localhost:8080/"
        },
        "id": "nuRVTwwaflv_",
        "outputId": "714c281e-89c2-462a-c6cc-fcbdb471e8a5"
      },
      "execution_count": null,
      "outputs": [
        {
          "output_type": "stream",
          "name": "stdout",
          "text": [
            "[ 0.          1.11111111  2.22222222  3.33333333  4.44444444  5.55555556\n",
            "  6.66666667  7.77777778  8.88888889 10.        ]\n",
            "[  0.           2.04081633   4.08163265   6.12244898   8.16326531\n",
            "  10.20408163  12.24489796  14.28571429  16.32653061  18.36734694\n",
            "  20.40816327  22.44897959  24.48979592  26.53061224  28.57142857\n",
            "  30.6122449   32.65306122  34.69387755  36.73469388  38.7755102\n",
            "  40.81632653  42.85714286  44.89795918  46.93877551  48.97959184\n",
            "  51.02040816  53.06122449  55.10204082  57.14285714  59.18367347\n",
            "  61.2244898   63.26530612  65.30612245  67.34693878  69.3877551\n",
            "  71.42857143  73.46938776  75.51020408  77.55102041  79.59183673\n",
            "  81.63265306  83.67346939  85.71428571  87.75510204  89.79591837\n",
            "  91.83673469  93.87755102  95.91836735  97.95918367 100.        ]\n"
          ]
        }
      ]
    },
    {
      "cell_type": "code",
      "source": [
        "import numpy as np\n",
        "A=np.arange(16)\n",
        "B=A.reshape(4,4)\n",
        "print(B)\n",
        "print(B.shape)\n",
        "print(B.base)\n",
        "print(B.base is A)"
      ],
      "metadata": {
        "colab": {
          "base_uri": "https://localhost:8080/"
        },
        "id": "TuYMS8Ywf8R6",
        "outputId": "76df3c1a-b906-4590-ec36-f57fe5ea3152"
      },
      "execution_count": null,
      "outputs": [
        {
          "output_type": "stream",
          "name": "stdout",
          "text": [
            "[[ 0  1  2  3]\n",
            " [ 4  5  6  7]\n",
            " [ 8  9 10 11]\n",
            " [12 13 14 15]]\n",
            "(4, 4)\n",
            "[ 0  1  2  3  4  5  6  7  8  9 10 11 12 13 14 15]\n",
            "True\n"
          ]
        }
      ]
    },
    {
      "cell_type": "code",
      "source": [
        "import numpy as np\n",
        "A=np.arange(16)\n",
        "B=A.reshape(4,4)\n",
        "print(B)\n",
        "print(B.shape)\n",
        "print(B.base)\n",
        "print(B.base is A)\n",
        "\n",
        "B[0]=-1\n",
        "print(A)\n",
        "print(B)\n",
        "\n",
        "C=B.reshape(2,8).copy()\n",
        "print(C)\n",
        "print(C.shape)\n",
        "C[0]=0\n",
        "print(B)\n",
        "print(C)"
      ],
      "metadata": {
        "colab": {
          "base_uri": "https://localhost:8080/"
        },
        "id": "QI8GG-VYgFm5",
        "outputId": "0ce00d94-1526-4ce6-f3a7-addd9a64ff38"
      },
      "execution_count": null,
      "outputs": [
        {
          "output_type": "stream",
          "name": "stdout",
          "text": [
            "[[ 0  1  2  3]\n",
            " [ 4  5  6  7]\n",
            " [ 8  9 10 11]\n",
            " [12 13 14 15]]\n",
            "(4, 4)\n",
            "[ 0  1  2  3  4  5  6  7  8  9 10 11 12 13 14 15]\n",
            "True\n",
            "[-1 -1 -1 -1  4  5  6  7  8  9 10 11 12 13 14 15]\n",
            "[[-1 -1 -1 -1]\n",
            " [ 4  5  6  7]\n",
            " [ 8  9 10 11]\n",
            " [12 13 14 15]]\n",
            "[[-1 -1 -1 -1  4  5  6  7]\n",
            " [ 8  9 10 11 12 13 14 15]]\n",
            "(2, 8)\n",
            "[[-1 -1 -1 -1]\n",
            " [ 4  5  6  7]\n",
            " [ 8  9 10 11]\n",
            " [12 13 14 15]]\n",
            "[[ 0  0  0  0  0  0  0  0]\n",
            " [ 8  9 10 11 12 13 14 15]]\n"
          ]
        }
      ]
    },
    {
      "cell_type": "code",
      "source": [
        "import numpy as np\n",
        "A=np.array([[1,2],[3,4]])\n",
        "print(A)\n",
        "print(A.shape)\n",
        "B=A.ravel()\n",
        "print(B)\n",
        "print(B.shape)\n",
        "print(B.base)\n",
        "print(B.base is A)"
      ],
      "metadata": {
        "id": "4oeXq3KGguHy"
      },
      "execution_count": null,
      "outputs": []
    },
    {
      "cell_type": "code",
      "source": [
        "import numpy as np\n",
        "A=np.arange(12)\n",
        "print(A)\n",
        "A.resize(3,4)\n",
        "print(A)"
      ],
      "metadata": {
        "id": "oTASNa45hG1b"
      },
      "execution_count": null,
      "outputs": []
    },
    {
      "cell_type": "code",
      "source": [
        "import numpy as np\n",
        "A=np.array([1,2,3])\n",
        "A=A[:,np.newaxis]\n",
        "print(A.shape)\n",
        "print(A)\n",
        "B=np.array([4,5,6])\n",
        "B=B[np.newaxis,:]\n",
        "print(B.shape)\n",
        "print(B)"
      ],
      "metadata": {
        "id": "1C23NZs0hNeh"
      },
      "execution_count": null,
      "outputs": []
    },
    {
      "cell_type": "code",
      "source": [
        "import numpy as np\n",
        "A=np.array([[1,2],[3,4]])\n",
        "B=np.array([[1,0],[0,1]])\n",
        "print(A)\n",
        "print(B)\n",
        "C=np.vstack((A,B))\n",
        "print(C)"
      ],
      "metadata": {
        "id": "Uu4O-h6nheG4"
      },
      "execution_count": null,
      "outputs": []
    },
    {
      "cell_type": "code",
      "source": [
        "import numpy as np\n",
        "A=np.array([[1,2],[3,4]])\n",
        "B=np.array([[1,0],[0,1]])\n",
        "print(A)\n",
        "print(B)\n",
        "C=np.hstack((A,B))\n",
        "print(C)"
      ],
      "metadata": {
        "id": "1tS7_5UUhqJL"
      },
      "execution_count": null,
      "outputs": []
    },
    {
      "cell_type": "code",
      "source": [
        "import numpy as np\n",
        "A=np.array([1,2,3])\n",
        "B=np.array([4,5,6])\n",
        "C=np.array([7,8,9])\n",
        "E=np.column_stack((A,B,C))\n",
        "print(E)"
      ],
      "metadata": {
        "id": "bFlAbQw4h81Y"
      },
      "execution_count": null,
      "outputs": []
    },
    {
      "cell_type": "code",
      "source": [
        "import numpy as np\n",
        "A=np.array([[1,2],[3,4]])\n",
        "B=np.array([[1,0],[0,1]])\n",
        "print(A)\n",
        "print(B)\n",
        "print(np.concatenate((A,B),axis=0))\n",
        "print(np.concatenate((A,B),axis=1))"
      ],
      "metadata": {
        "id": "epsHXkR1iIGb"
      },
      "execution_count": null,
      "outputs": []
    },
    {
      "cell_type": "code",
      "source": [
        "#대입\n",
        "import numpy as np\n",
        "A=np.arange(12)\n",
        "B=A\n",
        "print(A==B)\n",
        "print(A is B)\n",
        "A[0]=100\n",
        "B[11]=-1\n",
        "print(A)\n",
        "print(B)\n",
        "B.shape=3,4\n",
        "print(A.shape)\n",
        "\n",
        "def f(x):\n",
        "  print(id(x))\n",
        "\n",
        "a=np.array([1,2])\n",
        "print(id(a))\n",
        "print(f(a))"
      ],
      "metadata": {
        "id": "LFgtgptNlIyX"
      },
      "execution_count": null,
      "outputs": []
    },
    {
      "cell_type": "code",
      "source": [
        "#얕은복사\n",
        "import numpy as np\n",
        "a=np.arange(12)\n",
        "b=a.view()\n",
        "print(a)\n",
        "print(b)\n",
        "print(b.base is a,a is b)\n",
        "a[0]=-1\n",
        "b[11]=100\n",
        "print(a)\n",
        "print(b)\n",
        "\n",
        "a.resize(3,4)\n",
        "print(a)\n",
        "print(b)\n",
        "\n",
        "a[0,2]=10000\n",
        "print(a)\n",
        "print(b)\n",
        "\n",
        "c=a[0]\n",
        "c[:]=0\n",
        "print(c)\n",
        "print(a)\n",
        "print(b)"
      ],
      "metadata": {
        "id": "tuAY2uOJmKDM"
      },
      "execution_count": null,
      "outputs": []
    },
    {
      "cell_type": "code",
      "source": [
        "#깊은복사\n",
        "import numpy as np\n",
        "a=np.arange(12)\n",
        "b=a.copy()\n",
        "print(a==b)\n",
        "print(a is b)\n",
        "print(b.base is a)\n",
        "a[0]=-1\n",
        "b[11]=10000\n",
        "print(a)\n",
        "print(b)"
      ],
      "metadata": {
        "id": "2rsd8ng-maVF"
      },
      "execution_count": null,
      "outputs": []
    },
    {
      "cell_type": "code",
      "source": [
        "import numpy as np\n",
        "A=np.array([[7,2],[-7,5]])\n",
        "b=np.array([-5,12])\n",
        "invA=np.linalg.inv(A)\n",
        "x=np.dot(invA,b)\n",
        "print(x)\n",
        "\n",
        "A=np.array([[7,2],[-7,5]])\n",
        "b=np.array([-5,12])\n",
        "x=np.linalg.solve(A,b)\n",
        "print(x)"
      ],
      "metadata": {
        "id": "Nx-hNPHZpjJI"
      },
      "execution_count": null,
      "outputs": []
    },
    {
      "cell_type": "code",
      "source": [
        "import numpy as np\n",
        "import matplotlib.pyplot as plt\n",
        "A=np.array([[7,2],[-7,5]])\n",
        "b=np.array([-5,12])\n",
        "x=np.linalg.solve(A,b)\n",
        "\n",
        "x1,y1=x\n",
        "print(x1,y1)\n",
        "fig=plt.figure()\n",
        "ax=fig.add_subplot(1,1,1)\n",
        "a1=A[:,0]\n",
        "b1=A[:,1]\n",
        "c1=-b\n",
        "\n",
        "for c1, c2,c3 in zip(A[:,0],A[:,1],b):\n",
        "  x=np.linspace(-7,7,100)\n",
        "  y=(c3-c1*x)/c2\n",
        "  ax.plot(x,y,color=\"black\")\n",
        "ax.plot(x1,y1,'ro')\n",
        "ax.axis([-7,7,-7,7])\n",
        "ax.set_xticks(range(-7,7))\n",
        "ax.set_yticks(range(-7,7))\n",
        "ax.grid()\n",
        "ax.set_axisbelow(True)\n",
        "ax.set_aspect('auto',adjustable='box')\n",
        "ax.spines['left'].set_position('zero')\n",
        "ax.spines['bottom'].set_position('zero')\n",
        "ax.spines['right'].set_color('none')\n",
        "ax.spines['bottom'].set_color('none')\n",
        "plt.show()"
      ],
      "metadata": {
        "id": "Xw_QnTWYqVeS"
      },
      "execution_count": null,
      "outputs": []
    },
    {
      "cell_type": "code",
      "source": [
        "import cv2\n",
        "import numpy as np\n",
        "from google.colab.patches import cv2_imshow\n",
        "img=cv2.imread('/content/gdrive/My Drive/Colab Notebooks/Kakao1.jpg')\n",
        "height,width=img.shape[:2]\n",
        "M=np.array([[1,0,100],[0,1,200],[0,0,1]],dtype=float)\n",
        "dst=np.zeros(img.shape,dtype=np.uint8)\n",
        "for y in range(height-1):\n",
        "  for x in range(width-1):\n",
        "    p=np.array([x,y,1])\n",
        "    p_=np.dot(M,p)\n",
        "    x_,y_=p_[:2]\n",
        "    x_=int(x_)\n",
        "    y_=int(y_)\n",
        "    if x_>0 and x_<width and y_>0 and y_<height:\n",
        "      dst[y_,x_]=img[y,x]\n",
        "result=cv2.hconcat([img,dst])\n",
        "\n",
        "cv2_imshow(result)\n",
        "cv2.waitKey(0)"
      ],
      "metadata": {
        "id": "zGRqLa8BsRcB"
      },
      "execution_count": null,
      "outputs": []
    },
    {
      "cell_type": "code",
      "source": [
        "import cv2\n",
        "import numpy as np\n",
        "from google.colab.patches import cv2_imshow\n",
        "img=cv2.imread('/content/gdrive/My Drive/Colab Notebooks/Kakao1.jpg')\n",
        "height,width=img.shape[:2]\n",
        "\n",
        "angle=45\n",
        "radian=angle*np.pi/180\n",
        "c=np.cos(radian)\n",
        "s=np.sin(radian)\n",
        "\n",
        "rotation_matrix=np.array([[c,s,0],[-s,c,0],[0,0,1]],dtype=float)\n",
        "dst=np.zeros(img.shape,dtype=np.unit8)\n",
        "for y in range(height-1):\n",
        "  for x in range(width-1):\n",
        "    new_p=np.array([x,y,1])\n",
        "    inv_rotation_matrix=np.linalg.inv(rotation_matrix)\n",
        "    old_p=np.dot(inv_rotation_matrix,new_p)\n",
        "    x_,y_=old_p[:2]\n",
        "    x_=int(x_)\n",
        "    y_=int(y_)\n",
        "\n",
        "    if x_>0 and x_<width and y_>0 and y_<height:\n",
        "      dst[y,x]:img[_y,_x]\n",
        "  result=cv2.hconcat([img,dst])\n",
        "  cv2_imshow(result)\n",
        "  cv2.waitkey(0)"
      ],
      "metadata": {
        "id": "3rtr-pQObGyl"
      },
      "execution_count": null,
      "outputs": []
    },
    {
      "cell_type": "code",
      "source": [
        "import cv2\n",
        "import numpy as np\n",
        "from google.colab.patches import cv2_imshow\n",
        "img=cv2.imread('/content/drive/MyDrive/Colab Notebooks/KAKAO1.jpg')\n",
        "height,width=img.shape[:2]\n",
        "\n",
        "angle=45\n",
        "radian=angle*np.pi/180\n",
        "c=np.cos(radian)\n",
        "s=np.sin(radian)\n",
        "center_x=width/2\n",
        "center_y=height/2\n",
        "\n",
        "rotation_matrix=np.array([[c,s,(1-c)*center_x-s*center_y],[-s,c,s*center_x+(1-c)*center_y],[0,0,1]])\n",
        "dst=np.zeros(img.shape,dtype=np.unit8)\n",
        "for y in range(height-1):\n",
        "  for x in range(width-1):\n",
        "    new_p=np.array([x,y,1])\n",
        "    inv_rotation_matrix=np.linalg.inv(rotation_matrix)\n",
        "    old_p=np.dot(inv_rotation_matrix,new_p)\n",
        "    x_,y_=old_p[:2]\n",
        "    x_=int(x_)\n",
        "    y_=int(y_)\n",
        "\n",
        "    if x_>0 and x_<width and y_>0 and y_<height:\n",
        "      dst[y,x]:img[_y,_x]\n",
        "  result=cv2.hconcat([img,dst])\n",
        "  cv2_imshow(result)\n",
        "  cv2.waitkey(0)"
      ],
      "metadata": {
        "id": "oz_XQjqNga_D"
      },
      "execution_count": null,
      "outputs": []
    },
    {
      "cell_type": "code",
      "source": [
        "import numpy as np\n",
        "A=np.array([10])\n",
        "B=np.array([[1,2],[3,4]])\n",
        "C=np.array([[1,2,3],[4,5,6],[7,8,9]])\n",
        "\n",
        "print(np.linalg.det(B))\n",
        "print(np.linalg.det(C))"
      ],
      "metadata": {
        "colab": {
          "base_uri": "https://localhost:8080/"
        },
        "id": "7Pjlkpjqi1hP",
        "outputId": "b7bf6f5a-4306-4417-83af-c6a89dff8f6d"
      },
      "execution_count": null,
      "outputs": [
        {
          "output_type": "stream",
          "name": "stdout",
          "text": [
            "-2.0000000000000004\n",
            "0.0\n"
          ]
        }
      ]
    },
    {
      "cell_type": "code",
      "source": [
        "import numpy as np\n",
        "import matplotlib.pyplot as plt\n",
        "import matplotlib.patches as patches\n",
        "points=np.array([[1,1],[1,2],[2,2],[2,1]])\n",
        "A=np.array([[2,0],[0,2]])\n",
        "fig=plt.figure()\n",
        "ax=fig.add_subplot(1,1,1)\n",
        "print(np.linalg.det(A))\n",
        "\n",
        "ax.add_patch(patches.Polygon(points,fill=False,color='blue',zorder=1))\n",
        "ax.add_patch(patches.Polygon(np.dot(points,A),fill=False,color='blue',zorder=1))\n",
        "ax.text(1.4,1.4,'A',size=15)\n",
        "ax.text(2.9,2.9,'B',size=15)\n",
        "ax.set_xticks(range(-1,6))\n",
        "ax.set_yticks(range(-1,6))\n",
        "ax.grid()\n",
        "ax.set_axisbelow(True)\n",
        "ax.set_aspect('auto',adjustable='box')\n",
        "ax.spines['left'].set_position('zero')\n",
        "ax.spines['bottom'].set_position('zero')\n",
        "ax.spines['right'].set_color('none')\n",
        "ax.spines['top'].set_color('none')\n",
        "plt.show()"
      ],
      "metadata": {
        "id": "CdDDM-V7kjlM"
      },
      "execution_count": null,
      "outputs": []
    },
    {
      "cell_type": "code",
      "source": [
        "import numpy as np\n",
        "A=np.array([[3,2],[4,1]])\n",
        "print(\"A\")\n",
        "print(A)\n",
        "print()\n",
        "eigenvalue,eigenvector=np.linalg.eig(A)\n",
        "print(\"Eigen-Value\")\n",
        "print(eigenvalue)\n",
        "print(\"Eigen-Vector\")\n",
        "print(eigenvector)\n",
        "print()\n",
        "\n",
        "eigenvector1=eigenvector[:,0]\n",
        "eigenvector2=eigenvector[:,1]\n",
        "eigenvalue1=eigenvalue[0]\n",
        "eigenvalue2=eigenvalue[1]\n",
        "\n",
        "print(\"lambda*eigenvector==A*eigenvector\")\n",
        "print(eigenvalue1*eigenvector1,np.dot(A,eigenvector1))\n",
        "print(eigenvalue2*eigenvector2,np.dot(A,eigenvector2))"
      ],
      "metadata": {
        "id": "n084w6HPocWa"
      },
      "execution_count": null,
      "outputs": []
    },
    {
      "cell_type": "code",
      "source": [
        "import cv2\n",
        "import numpy as np\n",
        "from google.colab.patches import cv2_imshow\n",
        "img=cv2.imread('/content/drive/MyDrive/Colab Notebooks/KAKAO1.jpg')\n",
        "height,width=img.shape[:2]\n",
        "scale_factor=0.5\n",
        "scaling_matrix=np.array([[scale_factor,0,0],[0,scale_factor,0],[0,0,1]])\n",
        "dst=np.zeros((height,width,img.shape[2]),dtype=np.uint8)\n",
        "for y in range(height):\n",
        "  for x in range(width):\n",
        "    new_p=np.array([x,y,1])\n",
        "    inv_scaling_matrix=np.linalg.inv(scaling_matrix)\n",
        "    old_p=np.dot(inv_scaling_matrix,new_p)\n",
        "    x_ ,y_=old_p[:2]\n",
        "    x_=int(x_)\n",
        "    y_=int(y_)\n",
        "    if x_>0 and x_<width and y_ >0 and y_<height:\n",
        "      dst.itemset((y,x,0),img.item(y_,x_,0))\n",
        "      dst.itemset((y,x,1),img.item(y_,x_,1))\n",
        "      dst.itemset((y,x,2),img.item(y_,x_,2))\n",
        "\n",
        "result=cv2.hconcat([img,dst])\n",
        "cv2_imshow(result)\n",
        "cv2.waitkey(0)"
      ],
      "metadata": {
        "id": "PNRSVNpCqPLH"
      },
      "execution_count": null,
      "outputs": []
    },
    {
      "cell_type": "code",
      "source": [
        "import cv2\n",
        "import numpy as np\n",
        "img=cv2.imread('/content/drive/MyDrive/Colab Notebooks/KAKAO1.jpg')\n",
        "height, width=img.shape[:2]\n",
        "dst=cv2.resize(img,(int(width*1.5),int(height*1.5)))\n",
        "\n",
        "cv2_imshow(dst)\n",
        "cv2.waitkey(0)"
      ],
      "metadata": {
        "id": "6cHPiy1ks2gt"
      },
      "execution_count": null,
      "outputs": []
    },
    {
      "cell_type": "code",
      "source": [
        "import cv2\n",
        "import numpy as np\n",
        "img=cv2.imread('/content/drive/MyDrive/Colab Notebooks/KAKAO1.jpg')\n",
        "height, width=img.shape[:2]\n",
        "scale_factor=0.5\n",
        "scaling_matrix=np.array([[scale_factor,0,0],[0,scale_factor,0],[0,0,1]])\n",
        "translation_matrix=np.array([[1,0,width/4],[0,1,height/4],[0,0,1]])\n",
        "angle=45\n",
        "radian=angle*np.angle\n",
        "c=np.cos(radian)\n",
        "s=np.sin(radian)\n",
        "center_x=width/2\n",
        "center_y=height/2\n",
        "rotation_matrix=np.array([[c,s,(1-c)*center_x-s*center_y],[-s,c,s*center_x+(1-c)*center_y],[0,0,1]])\n",
        "\n",
        "T=np.eye(3)\n",
        "T=np.dot(scaling_matrix,T)\n",
        "T=np.dot(translation_matrix,T)\n",
        "T=np.dot(rotation_matrix,T)\n",
        "dst=np.zeros((height,width,img.shape[2]),dtype=np.uint8)\n",
        "for y in range(height):\n",
        "  for x in range(width):\n",
        "    new_p=np.array([x,y,1])\n",
        "    inv_scaling_matrix=np.linalg.inv(T)\n",
        "    old_p=np.dot(inv_scaling_matrix,new_p)\n",
        "    x_,y_=old_p[:2]\n",
        "    x_=int(x_)\n",
        "    y_=int(y_)\n",
        "    if x_>0 and x><width and y_>0 and y_<height:\n",
        "      dst.itemset((y,x,0),img.item(y_,x_,0))\n",
        "      dst.itemset((y,x,1),img.item(y_,x_,1))\n",
        "      dst.itemset((y,x,2),img.item(y_,x_,2))\n",
        "cv2.imshow(\"result\",dst)\n",
        "cv2.waitKey(0)"
      ],
      "metadata": {
        "id": "-jMHBkGWvRyH"
      },
      "execution_count": null,
      "outputs": []
    }
  ]
}