{
  "nbformat": 4,
  "nbformat_minor": 0,
  "metadata": {
    "colab": {
      "provenance": [],
      "authorship_tag": "ABX9TyNLyNHDqxQNLkgQFBlvj1UA",
      "include_colab_link": true
    },
    "kernelspec": {
      "name": "python3",
      "display_name": "Python 3"
    },
    "language_info": {
      "name": "python"
    }
  },
  "cells": [
    {
      "cell_type": "markdown",
      "metadata": {
        "id": "view-in-github",
        "colab_type": "text"
      },
      "source": [
        "<a href=\"https://colab.research.google.com/github/lsc2159/LinearA_single/blob/main/%EC%84%A0%ED%98%95%EB%8C%80%EC%88%98%ED%95%992_7%EC%A3%BC%EC%B0%A8.ipynb\" target=\"_parent\"><img src=\"https://colab.research.google.com/assets/colab-badge.svg\" alt=\"Open In Colab\"/></a>"
      ]
    },
    {
      "cell_type": "code",
      "execution_count": null,
      "metadata": {
        "id": "WPbgFrBeobJw"
      },
      "outputs": [],
      "source": [
        "import numpy as np\n",
        "import matplotlib.pyplot as plt\n",
        "fig=plt.figure()\n",
        "ax=fig.add_subplot(1,1,1)\n",
        "x=np.arange(-10,10,0.1)\n",
        "f=1/(1+np.exp(-x))\n",
        "ax.plot(x,f)\n",
        "ax.set_xticks(range(-10,10))\n",
        "ax.set_yticks(range(0,2))\n",
        "ax.set_xlabel('x')\n",
        "ax.set_ylabel('f(x)')\n",
        "plt.show()"
      ]
    },
    {
      "cell_type": "code",
      "source": [
        "import numpy as np\n",
        "import matplotlib.pyplot as plt\n",
        "fig=plt.figure()\n",
        "ax=fig.add_subplot(1,1,1)\n",
        "x=np.arange(-10,10,0.1)\n",
        "W=np.arange(0.5,3,0.5)\n",
        "for w in W:\n",
        "  f=1/(1+np.exp(-x*w))\n",
        "  ax.plot(x,f)\n",
        "ax.set_xticks(range(-10,10))\n",
        "ax.set_yticks(range(0,2))\n",
        "ax.set_xlabel('x')\n",
        "ax.set_ylabel('f(x)')\n",
        "plt.show()"
      ],
      "metadata": {
        "id": "mTVZm2lNsa97"
      },
      "execution_count": null,
      "outputs": []
    },
    {
      "cell_type": "code",
      "source": [
        "import numpy as np\n",
        "import matplotlib.pyplot as plt\n",
        "fig=plt.figure()\n",
        "ax=fig.add_subplot(1,1,1)\n",
        "x=np.arange(-10,10,0.1)\n",
        "w=0.5\n",
        "B=np.arange(-2,2,0.5)\n",
        "for b in B:\n",
        "  f=1/(1+np.exp(-x*w+b))\n",
        "  ax.plot(x,f)\n",
        "ax.set_xticks(range(-10,10))\n",
        "ax.set_yticks(range(0,2))\n",
        "ax.set_xlabel('x')\n",
        "ax.set_ylabel('f(x)')\n",
        "plt.show()"
      ],
      "metadata": {
        "id": "9kVojW-luD1p"
      },
      "execution_count": null,
      "outputs": []
    }
  ]
}